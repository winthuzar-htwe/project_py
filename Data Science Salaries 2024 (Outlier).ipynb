{
 "cells": [
  {
   "cell_type": "markdown",
   "id": "32c917de",
   "metadata": {},
   "source": [
    "### Import Libraries and Modules ###"
   ]
  },
  {
   "cell_type": "code",
   "execution_count": 35,
   "id": "49a3b7fe",
   "metadata": {
    "ExecuteTime": {
     "end_time": "2024-08-08T06:05:08.760745Z",
     "start_time": "2024-08-08T06:05:08.750733Z"
    }
   },
   "outputs": [],
   "source": [
    "import pandas as pd\n",
    "import numpy as np\n",
    "import matplotlib.pyplot as plt\n",
    "import scipy.stats as sc\n",
    "import seaborn as sns\n",
    "import math"
   ]
  },
  {
   "cell_type": "markdown",
   "id": "db541409",
   "metadata": {},
   "source": [
    "### Load the dataset ###"
   ]
  },
  {
   "cell_type": "code",
   "execution_count": 36,
   "id": "27ed7f65",
   "metadata": {
    "ExecuteTime": {
     "end_time": "2024-08-08T06:05:11.706368Z",
     "start_time": "2024-08-08T06:05:11.332504Z"
    }
   },
   "outputs": [],
   "source": [
    "data = pd.read_csv('C:/Users/SMILE/Documents/data_analysis_with_python/Dataset/data_science_salaries.csv')"
   ]
  },
  {
   "cell_type": "code",
   "execution_count": 37,
   "id": "62f7e882",
   "metadata": {
    "ExecuteTime": {
     "end_time": "2024-08-08T06:05:13.491963Z",
     "start_time": "2024-08-08T06:05:13.456957Z"
    },
    "scrolled": true
   },
   "outputs": [
    {
     "data": {
      "text/html": [
       "<div>\n",
       "<style scoped>\n",
       "    .dataframe tbody tr th:only-of-type {\n",
       "        vertical-align: middle;\n",
       "    }\n",
       "\n",
       "    .dataframe tbody tr th {\n",
       "        vertical-align: top;\n",
       "    }\n",
       "\n",
       "    .dataframe thead th {\n",
       "        text-align: right;\n",
       "    }\n",
       "</style>\n",
       "<table border=\"1\" class=\"dataframe\">\n",
       "  <thead>\n",
       "    <tr style=\"text-align: right;\">\n",
       "      <th></th>\n",
       "      <th>job_title</th>\n",
       "      <th>experience_level</th>\n",
       "      <th>employment_type</th>\n",
       "      <th>work_models</th>\n",
       "      <th>work_year</th>\n",
       "      <th>employee_residence</th>\n",
       "      <th>salary</th>\n",
       "      <th>salary_currency</th>\n",
       "      <th>salary_in_usd</th>\n",
       "      <th>company_location</th>\n",
       "      <th>company_size</th>\n",
       "    </tr>\n",
       "  </thead>\n",
       "  <tbody>\n",
       "    <tr>\n",
       "      <th>0</th>\n",
       "      <td>Data Engineer</td>\n",
       "      <td>Mid-level</td>\n",
       "      <td>Full-time</td>\n",
       "      <td>Remote</td>\n",
       "      <td>2024</td>\n",
       "      <td>United States</td>\n",
       "      <td>148100</td>\n",
       "      <td>USD</td>\n",
       "      <td>148100</td>\n",
       "      <td>United States</td>\n",
       "      <td>Medium</td>\n",
       "    </tr>\n",
       "    <tr>\n",
       "      <th>1</th>\n",
       "      <td>Data Engineer</td>\n",
       "      <td>Mid-level</td>\n",
       "      <td>Full-time</td>\n",
       "      <td>Remote</td>\n",
       "      <td>2024</td>\n",
       "      <td>United States</td>\n",
       "      <td>98700</td>\n",
       "      <td>USD</td>\n",
       "      <td>98700</td>\n",
       "      <td>United States</td>\n",
       "      <td>Medium</td>\n",
       "    </tr>\n",
       "    <tr>\n",
       "      <th>2</th>\n",
       "      <td>Data Scientist</td>\n",
       "      <td>Senior-level</td>\n",
       "      <td>Full-time</td>\n",
       "      <td>Remote</td>\n",
       "      <td>2024</td>\n",
       "      <td>United States</td>\n",
       "      <td>140032</td>\n",
       "      <td>USD</td>\n",
       "      <td>140032</td>\n",
       "      <td>United States</td>\n",
       "      <td>Medium</td>\n",
       "    </tr>\n",
       "    <tr>\n",
       "      <th>3</th>\n",
       "      <td>Data Scientist</td>\n",
       "      <td>Senior-level</td>\n",
       "      <td>Full-time</td>\n",
       "      <td>Remote</td>\n",
       "      <td>2024</td>\n",
       "      <td>United States</td>\n",
       "      <td>100022</td>\n",
       "      <td>USD</td>\n",
       "      <td>100022</td>\n",
       "      <td>United States</td>\n",
       "      <td>Medium</td>\n",
       "    </tr>\n",
       "    <tr>\n",
       "      <th>4</th>\n",
       "      <td>BI Developer</td>\n",
       "      <td>Mid-level</td>\n",
       "      <td>Full-time</td>\n",
       "      <td>On-site</td>\n",
       "      <td>2024</td>\n",
       "      <td>United States</td>\n",
       "      <td>120000</td>\n",
       "      <td>USD</td>\n",
       "      <td>120000</td>\n",
       "      <td>United States</td>\n",
       "      <td>Medium</td>\n",
       "    </tr>\n",
       "    <tr>\n",
       "      <th>...</th>\n",
       "      <td>...</td>\n",
       "      <td>...</td>\n",
       "      <td>...</td>\n",
       "      <td>...</td>\n",
       "      <td>...</td>\n",
       "      <td>...</td>\n",
       "      <td>...</td>\n",
       "      <td>...</td>\n",
       "      <td>...</td>\n",
       "      <td>...</td>\n",
       "      <td>...</td>\n",
       "    </tr>\n",
       "    <tr>\n",
       "      <th>6594</th>\n",
       "      <td>Staff Data Analyst</td>\n",
       "      <td>Entry-level</td>\n",
       "      <td>Contract</td>\n",
       "      <td>Hybrid</td>\n",
       "      <td>2020</td>\n",
       "      <td>Canada</td>\n",
       "      <td>60000</td>\n",
       "      <td>CAD</td>\n",
       "      <td>44753</td>\n",
       "      <td>Canada</td>\n",
       "      <td>Large</td>\n",
       "    </tr>\n",
       "    <tr>\n",
       "      <th>6595</th>\n",
       "      <td>Staff Data Analyst</td>\n",
       "      <td>Executive-level</td>\n",
       "      <td>Full-time</td>\n",
       "      <td>On-site</td>\n",
       "      <td>2020</td>\n",
       "      <td>Nigeria</td>\n",
       "      <td>15000</td>\n",
       "      <td>USD</td>\n",
       "      <td>15000</td>\n",
       "      <td>Canada</td>\n",
       "      <td>Medium</td>\n",
       "    </tr>\n",
       "    <tr>\n",
       "      <th>6596</th>\n",
       "      <td>Machine Learning Manager</td>\n",
       "      <td>Senior-level</td>\n",
       "      <td>Full-time</td>\n",
       "      <td>Hybrid</td>\n",
       "      <td>2020</td>\n",
       "      <td>Canada</td>\n",
       "      <td>157000</td>\n",
       "      <td>CAD</td>\n",
       "      <td>117104</td>\n",
       "      <td>Canada</td>\n",
       "      <td>Large</td>\n",
       "    </tr>\n",
       "    <tr>\n",
       "      <th>6597</th>\n",
       "      <td>Data Engineer</td>\n",
       "      <td>Mid-level</td>\n",
       "      <td>Full-time</td>\n",
       "      <td>Hybrid</td>\n",
       "      <td>2020</td>\n",
       "      <td>Austria</td>\n",
       "      <td>65000</td>\n",
       "      <td>EUR</td>\n",
       "      <td>74130</td>\n",
       "      <td>Austria</td>\n",
       "      <td>Large</td>\n",
       "    </tr>\n",
       "    <tr>\n",
       "      <th>6598</th>\n",
       "      <td>Data Scientist</td>\n",
       "      <td>Senior-level</td>\n",
       "      <td>Full-time</td>\n",
       "      <td>On-site</td>\n",
       "      <td>2020</td>\n",
       "      <td>Austria</td>\n",
       "      <td>80000</td>\n",
       "      <td>EUR</td>\n",
       "      <td>91237</td>\n",
       "      <td>Austria</td>\n",
       "      <td>Small</td>\n",
       "    </tr>\n",
       "  </tbody>\n",
       "</table>\n",
       "<p>6599 rows × 11 columns</p>\n",
       "</div>"
      ],
      "text/plain": [
       "                     job_title experience_level employment_type work_models  \\\n",
       "0                Data Engineer        Mid-level       Full-time      Remote   \n",
       "1                Data Engineer        Mid-level       Full-time      Remote   \n",
       "2               Data Scientist     Senior-level       Full-time      Remote   \n",
       "3               Data Scientist     Senior-level       Full-time      Remote   \n",
       "4                 BI Developer        Mid-level       Full-time     On-site   \n",
       "...                        ...              ...             ...         ...   \n",
       "6594        Staff Data Analyst      Entry-level        Contract      Hybrid   \n",
       "6595        Staff Data Analyst  Executive-level       Full-time     On-site   \n",
       "6596  Machine Learning Manager     Senior-level       Full-time      Hybrid   \n",
       "6597             Data Engineer        Mid-level       Full-time      Hybrid   \n",
       "6598            Data Scientist     Senior-level       Full-time     On-site   \n",
       "\n",
       "      work_year employee_residence  salary salary_currency  salary_in_usd  \\\n",
       "0          2024      United States  148100             USD         148100   \n",
       "1          2024      United States   98700             USD          98700   \n",
       "2          2024      United States  140032             USD         140032   \n",
       "3          2024      United States  100022             USD         100022   \n",
       "4          2024      United States  120000             USD         120000   \n",
       "...         ...                ...     ...             ...            ...   \n",
       "6594       2020             Canada   60000             CAD          44753   \n",
       "6595       2020            Nigeria   15000             USD          15000   \n",
       "6596       2020             Canada  157000             CAD         117104   \n",
       "6597       2020            Austria   65000             EUR          74130   \n",
       "6598       2020            Austria   80000             EUR          91237   \n",
       "\n",
       "     company_location company_size  \n",
       "0       United States       Medium  \n",
       "1       United States       Medium  \n",
       "2       United States       Medium  \n",
       "3       United States       Medium  \n",
       "4       United States       Medium  \n",
       "...               ...          ...  \n",
       "6594           Canada        Large  \n",
       "6595           Canada       Medium  \n",
       "6596           Canada        Large  \n",
       "6597          Austria        Large  \n",
       "6598          Austria        Small  \n",
       "\n",
       "[6599 rows x 11 columns]"
      ]
     },
     "execution_count": 37,
     "metadata": {},
     "output_type": "execute_result"
    }
   ],
   "source": [
    "data"
   ]
  },
  {
   "cell_type": "markdown",
   "id": "e77e4930",
   "metadata": {},
   "source": [
    "### Check dataset information ###"
   ]
  },
  {
   "cell_type": "code",
   "execution_count": 38,
   "id": "fd9947e9",
   "metadata": {
    "ExecuteTime": {
     "end_time": "2024-08-08T06:05:16.588217Z",
     "start_time": "2024-08-08T06:05:16.551506Z"
    }
   },
   "outputs": [
    {
     "name": "stdout",
     "output_type": "stream",
     "text": [
      "Index(['job_title', 'experience_level', 'employment_type', 'work_models',\n",
      "       'work_year', 'employee_residence', 'salary', 'salary_currency',\n",
      "       'salary_in_usd', 'company_location', 'company_size'],\n",
      "      dtype='object')\n",
      "(6599, 11)\n",
      "<class 'pandas.core.frame.DataFrame'>\n",
      "RangeIndex: 6599 entries, 0 to 6598\n",
      "Data columns (total 11 columns):\n",
      " #   Column              Non-Null Count  Dtype \n",
      "---  ------              --------------  ----- \n",
      " 0   job_title           6599 non-null   object\n",
      " 1   experience_level    6599 non-null   object\n",
      " 2   employment_type     6599 non-null   object\n",
      " 3   work_models         6599 non-null   object\n",
      " 4   work_year           6599 non-null   int64 \n",
      " 5   employee_residence  6599 non-null   object\n",
      " 6   salary              6599 non-null   int64 \n",
      " 7   salary_currency     6599 non-null   object\n",
      " 8   salary_in_usd       6599 non-null   int64 \n",
      " 9   company_location    6599 non-null   object\n",
      " 10  company_size        6599 non-null   object\n",
      "dtypes: int64(3), object(8)\n",
      "memory usage: 567.2+ KB\n",
      "None\n"
     ]
    }
   ],
   "source": [
    "print(data.columns)\n",
    "print(data.shape)\n",
    "print(data.info())"
   ]
  },
  {
   "cell_type": "markdown",
   "id": "5112f15a",
   "metadata": {},
   "source": [
    "### Check null values ###"
   ]
  },
  {
   "cell_type": "code",
   "execution_count": 39,
   "id": "ab31326a",
   "metadata": {
    "ExecuteTime": {
     "end_time": "2024-08-08T06:05:19.287200Z",
     "start_time": "2024-08-08T06:05:19.277201Z"
    }
   },
   "outputs": [
    {
     "data": {
      "text/plain": [
       "job_title             0\n",
       "experience_level      0\n",
       "employment_type       0\n",
       "work_models           0\n",
       "work_year             0\n",
       "employee_residence    0\n",
       "salary                0\n",
       "salary_currency       0\n",
       "salary_in_usd         0\n",
       "company_location      0\n",
       "company_size          0\n",
       "dtype: int64"
      ]
     },
     "execution_count": 39,
     "metadata": {},
     "output_type": "execute_result"
    }
   ],
   "source": [
    "data.isnull().sum()"
   ]
  },
  {
   "cell_type": "markdown",
   "id": "632bf99d",
   "metadata": {},
   "source": [
    "### Frequency distribution with qualitative variables ###"
   ]
  },
  {
   "cell_type": "code",
   "execution_count": 40,
   "id": "15f073ac",
   "metadata": {
    "ExecuteTime": {
     "end_time": "2024-08-08T06:05:22.812523Z",
     "start_time": "2024-08-08T06:05:22.660225Z"
    }
   },
   "outputs": [
    {
     "data": {
      "text/plain": [
       "work_year\n",
       "2023    4625\n",
       "2022    1112\n",
       "2024     571\n",
       "2021     216\n",
       "2020      75\n",
       "Name: count, dtype: int64"
      ]
     },
     "execution_count": 40,
     "metadata": {},
     "output_type": "execute_result"
    }
   ],
   "source": [
    "data['work_year'].value_counts()"
   ]
  },
  {
   "cell_type": "code",
   "execution_count": 43,
   "id": "bcca6062",
   "metadata": {
    "ExecuteTime": {
     "end_time": "2024-08-08T06:05:52.264967Z",
     "start_time": "2024-08-08T06:05:52.123921Z"
    }
   },
   "outputs": [
    {
     "data": {
      "image/png": "[encoded data removed]",
      "text/plain": [
       "<Figure size 640x480 with 1 Axes>"
      ]
     },
     "metadata": {},
     "output_type": "display_data"
    }
   ],
   "source": [
    "data['work_year'].value_counts()\n",
    "year_data = {'Year':[2020,2021,2022,2023,2024],\n",
    "            'Work':[75,216,571,1112,4625]}\n",
    "year_df = pd.DataFrame(year_data)\n",
    "year_df.plot(kind='bar',x='Year',y='Work',title='Work Year',xlabel='Year',ylabel='Work',rot=0,color='darkblue',legend=False)\n",
    "plt.show()"
   ]
  },
  {
   "cell_type": "code",
   "execution_count": 44,
   "id": "11c5929a",
   "metadata": {
    "ExecuteTime": {
     "end_time": "2024-08-08T06:05:55.967510Z",
     "start_time": "2024-08-08T06:05:55.951501Z"
    }
   },
   "outputs": [
    {
     "data": {
      "text/plain": [
       "experience_level\n",
       "Senior-level       4105\n",
       "Mid-level          1675\n",
       "Entry-level         565\n",
       "Executive-level     254\n",
       "Name: count, dtype: int64"
      ]
     },
     "execution_count": 44,
     "metadata": {},
     "output_type": "execute_result"
    }
   ],
   "source": [
    "data['experience_level'].value_counts()"
   ]
  },
  {
   "cell_type": "code",
   "execution_count": 45,
   "id": "54245058",
   "metadata": {
    "ExecuteTime": {
     "end_time": "2024-08-08T06:05:59.831489Z",
     "start_time": "2024-08-08T06:05:59.595444Z"
    }
   },
   "outputs": [
    {
     "data": {
      "image/png": "[encoded data removed]",
      "text/plain": [
       "<Figure size 640x480 with 1 Axes>"
      ]
     },
     "metadata": {},
     "output_type": "display_data"
    }
   ],
   "source": [
    "data['experience_level'].value_counts()\n",
    "exp_data = {'Experience Level':['EX','EN','MI','SE'],\n",
    "            'Number':[254,565,1675,4105]}\n",
    "exp_df = pd.DataFrame(exp_data)\n",
    "exp_df.plot(kind='bar',x='Experience Level',y='Number',title='Experience Level',xlabel='Experience',ylabel='Number',color='darkblue',rot=0,legend=False)\n",
    "plt.show()"
   ]
  },
  {
   "cell_type": "code",
   "execution_count": 46,
   "id": "f9d48a61",
   "metadata": {
    "ExecuteTime": {
     "end_time": "2024-08-08T06:06:03.533591Z",
     "start_time": "2024-08-08T06:06:03.502133Z"
    }
   },
   "outputs": [
    {
     "data": {
      "text/plain": [
       "employment_type\n",
       "Full-time    6552\n",
       "Contract       19\n",
       "Part-time      16\n",
       "Freelance      12\n",
       "Name: count, dtype: int64"
      ]
     },
     "execution_count": 46,
     "metadata": {},
     "output_type": "execute_result"
    }
   ],
   "source": [
    "data['employment_type'].value_counts()"
   ]
  },
  {
   "cell_type": "code",
   "execution_count": 47,
   "id": "989b08ad",
   "metadata": {
    "ExecuteTime": {
     "end_time": "2024-08-08T06:06:05.866747Z",
     "start_time": "2024-08-08T06:06:05.741203Z"
    }
   },
   "outputs": [
    {
     "data": {
      "image/png": "[encoded data removed]",
      "text/plain": [
       "<Figure size 640x480 with 1 Axes>"
      ]
     },
     "metadata": {},
     "output_type": "display_data"
    }
   ],
   "source": [
    "data['employment_type'].value_counts()\n",
    "emp_data = {'Employment Type':['FL','PT','CT','FT'],\n",
    "            'Number':[12,16,19,6552]}\n",
    "emp_df = pd.DataFrame(emp_data)\n",
    "emp_df.plot(kind='bar',x='Employment Type',y='Number',title='Employment Type',xlabel='Employment',ylabel='Number',color='darkblue',legend=False)\n",
    "plt.xticks(rotation=0)\n",
    "plt.show()"
   ]
  },
  {
   "cell_type": "code",
   "execution_count": 48,
   "id": "a117b187",
   "metadata": {
    "ExecuteTime": {
     "end_time": "2024-08-08T06:06:09.340360Z",
     "start_time": "2024-08-08T06:06:09.135004Z"
    }
   },
   "outputs": [
    {
     "data": {
      "text/plain": [
       "array(['Data Engineer', 'Data Scientist', 'BI Developer',\n",
       "       'Research Analyst', 'Business Intelligence Developer',\n",
       "       'Data Analyst', 'Director of Data Science', 'MLOps Engineer',\n",
       "       'Machine Learning Scientist', 'Machine Learning Engineer',\n",
       "       'Data Science Manager', 'Applied Scientist',\n",
       "       'Business Intelligence Analyst', 'Analytics Engineer',\n",
       "       'Business Intelligence Engineer', 'Data Science',\n",
       "       'Research Scientist', 'Research Engineer',\n",
       "       'Managing Director Data Science', 'AI Engineer', 'Data Specialist',\n",
       "       'Data Architect', 'Data Visualization Specialist', 'ETL Developer',\n",
       "       'Data Science Practitioner', 'Computer Vision Engineer',\n",
       "       'Data Lead', 'ML Engineer', 'Data Developer', 'Data Modeler',\n",
       "       'Data Science Consultant', 'AI Architect',\n",
       "       'Data Analytics Manager', 'Data Science Engineer',\n",
       "       'Data Product Manager', 'Data Quality Analyst', 'Data Strategist',\n",
       "       'Prompt Engineer', 'Data Science Lead',\n",
       "       'Business Intelligence Manager', 'Data Manager',\n",
       "       'Data Analytics Lead', 'Machine Learning Infrastructure Engineer',\n",
       "       'Data Integration Engineer', 'Data Management Analyst',\n",
       "       'BI Analyst', 'Business Data Analyst',\n",
       "       'Machine Learning Operations Engineer', 'NLP Engineer',\n",
       "       'Marketing Data Scientist', 'AI Scientist',\n",
       "       'Machine Learning Researcher', 'Data Science Director',\n",
       "       'Head of Data', 'Machine Learning Modeler',\n",
       "       'Data Integration Specialist', 'Data Management Specialist',\n",
       "       'AI Developer', 'Business Intelligence Specialist',\n",
       "       'Data Quality Engineer', 'Decision Scientist',\n",
       "       'Financial Data Analyst', 'Data Strategy Manager',\n",
       "       'Data Visualization Engineer', 'Principal Data Scientist',\n",
       "       'Data Infrastructure Engineer',\n",
       "       'Machine Learning Software Engineer', 'Head of Machine Learning',\n",
       "       'Data Operations Analyst', 'Data Operations Engineer',\n",
       "       'Machine Learning Manager', 'BI Data Analyst',\n",
       "       'AI Research Engineer', 'Deep Learning Engineer',\n",
       "       'Data Operations Manager', 'Head of Data Science',\n",
       "       'Software Data Engineer', 'Compliance Data Analyst',\n",
       "       'Data Operations Specialist', 'Business Intelligence Data Analyst',\n",
       "       'AWS Data Architect', 'Product Data Analyst',\n",
       "       'Data Visualization Analyst', 'Cloud Data Engineer',\n",
       "       'Finance Data Analyst', 'Applied Machine Learning Engineer',\n",
       "       'Lead Data Analyst', 'BI Data Engineer', 'Cloud Database Engineer',\n",
       "       'Applied Machine Learning Scientist', 'Data Analytics Specialist',\n",
       "       'Big Data Engineer', 'Machine Learning Research Engineer',\n",
       "       'Staff Data Analyst', 'Lead Data Scientist', 'Insight Analyst',\n",
       "       'Azure Data Engineer', 'Data Analyst Lead', 'AI Programmer',\n",
       "       'Applied Data Scientist', 'AI Product Manager',\n",
       "       'Principal Machine Learning Engineer',\n",
       "       'Lead Machine Learning Engineer', 'Data Quality Manager',\n",
       "       'Data Product Owner', 'Data Modeller',\n",
       "       'Analytics Engineering Manager', 'Autonomous Vehicle Technician',\n",
       "       'ETL Engineer', 'Big Data Architect',\n",
       "       'Machine Learning Specialist', 'Data DevOps Engineer',\n",
       "       'Principal Data Engineer', 'Power BI Developer',\n",
       "       'Deep Learning Researcher', 'Consultant Data Engineer',\n",
       "       'Computer Vision Software Engineer', 'Manager Data Management',\n",
       "       'Data Analytics Consultant', 'Data Science Tech Lead',\n",
       "       'Data Analytics Engineer', 'Data Scientist Lead',\n",
       "       'Machine Learning Developer', 'Principal Data Architect',\n",
       "       'Marketing Data Analyst', 'Lead Data Engineer',\n",
       "       'Principal Data Analyst', 'Staff Machine Learning Engineer',\n",
       "       'Cloud Data Architect', 'Staff Data Scientist',\n",
       "       'Marketing Data Engineer', 'Sales Data Analyst'], dtype=object)"
      ]
     },
     "execution_count": 48,
     "metadata": {},
     "output_type": "execute_result"
    }
   ],
   "source": [
    "data['job_title'].unique()"
   ]
  },
  {
   "cell_type": "code",
   "execution_count": 49,
   "id": "2ee92b93",
   "metadata": {
    "ExecuteTime": {
     "end_time": "2024-08-08T06:06:13.657508Z",
     "start_time": "2024-08-08T06:06:13.327899Z"
    }
   },
   "outputs": [
    {
     "data": {
      "image/png": "[encoded data removed]",
      "text/plain": [
       "<Figure size 640x480 with 1 Axes>"
      ]
     },
     "metadata": {},
     "output_type": "display_data"
    }
   ],
   "source": [
    "sal_cur = data['salary_currency'].value_counts()\n",
    "plt.bar(sal_cur.index, sal_cur.values, color='darkblue')\n",
    "plt.xlabel('Salary Currency')\n",
    "plt.ylabel('Number')\n",
    "plt.title('Number in Salary Currency')\n",
    "plt.xticks(rotation=90)\n",
    "plt.show()"
   ]
  },
  {
   "cell_type": "code",
   "execution_count": 50,
   "id": "5a584d96",
   "metadata": {
    "ExecuteTime": {
     "end_time": "2024-08-08T06:06:17.465707Z",
     "start_time": "2024-08-08T06:06:17.450219Z"
    }
   },
   "outputs": [
    {
     "name": "stdout",
     "output_type": "stream",
     "text": [
      "15000\n",
      "750000\n"
     ]
    }
   ],
   "source": [
    "print(data['salary_in_usd'].min())\n",
    "print(data['salary_in_usd'].max())"
   ]
  },
  {
   "cell_type": "code",
   "execution_count": 51,
   "id": "15cb03b0",
   "metadata": {
    "ExecuteTime": {
     "end_time": "2024-08-08T06:06:31.029166Z",
     "start_time": "2024-08-08T06:06:30.604602Z"
    }
   },
   "outputs": [
    {
     "data": {
      "image/png": "[encoded data removed]",
      "text/plain": [
       "<Figure size 640x480 with 1 Axes>"
      ]
     },
     "metadata": {},
     "output_type": "display_data"
    }
   ],
   "source": [
    "salaryusd_gp = pd.cut(data['salary_in_usd'],[15000,50000,100000,200000,300000,400000,450000],right=True).value_counts(sort=False)\n",
    "salaryusd_df = pd.DataFrame(salaryusd_gp)\n",
    "salaryusd_df.plot(kind='bar',width=0.5,legend=None,rot=90)\n",
    "plt.show()"
   ]
  },
  {
   "cell_type": "code",
   "execution_count": 52,
   "id": "dbe6307e",
   "metadata": {
    "ExecuteTime": {
     "end_time": "2024-08-08T06:06:37.737863Z",
     "start_time": "2024-08-08T06:06:37.569809Z"
    },
    "scrolled": true
   },
   "outputs": [
    {
     "name": "stdout",
     "output_type": "stream",
     "text": [
      "   number       bins\n",
      "0      14    (1, 20]\n",
      "1      11    (1, 20]\n",
      "2      55   (40, 60]\n",
      "3      23   (20, 40]\n",
      "4      24   (20, 40]\n",
      "5      71   (60, 80]\n",
      "6      82  (80, 100]\n",
      "7      33   (20, 40]\n",
      "8       3    (1, 20]\n",
      "9      30   (20, 40]\n",
      "[(1, 20], (40, 60], (20, 40], (60, 80], (80, 100]]\n",
      "Categories (5, interval[int64, right]): [(1, 20] < (20, 40] < (40, 60] < (60, 80] < (80, 100]]\n"
     ]
    }
   ],
   "source": [
    "import pandas as pd\n",
    "import numpy as np\n",
    "\n",
    "df= pd.DataFrame({'number': np.random.randint(1,100,10)})\n",
    "df['bins'] = pd.cut(x=df['number'], bins=[1,20,40,60,80,100])\n",
    "print(df)\n",
    "print(df['bins'].unique())"
   ]
  },
  {
   "cell_type": "code",
   "execution_count": 53,
   "id": "3ad1a6e3",
   "metadata": {
    "ExecuteTime": {
     "end_time": "2024-08-08T06:06:41.547509Z",
     "start_time": "2024-08-08T06:06:41.532353Z"
    }
   },
   "outputs": [
    {
     "data": {
      "text/plain": [
       "0    United States\n",
       "Name: company_location, dtype: object"
      ]
     },
     "execution_count": 53,
     "metadata": {},
     "output_type": "execute_result"
    }
   ],
   "source": [
    "data['company_location'].mode()"
   ]
  },
  {
   "cell_type": "code",
   "execution_count": 54,
   "id": "32752a33",
   "metadata": {
    "ExecuteTime": {
     "end_time": "2024-08-08T06:06:43.312500Z",
     "start_time": "2024-08-08T06:06:43.283758Z"
    }
   },
   "outputs": [
    {
     "data": {
      "text/plain": [
       "0    United States\n",
       "Name: employee_residence, dtype: object"
      ]
     },
     "execution_count": 54,
     "metadata": {},
     "output_type": "execute_result"
    }
   ],
   "source": [
    "data['employee_residence'].mode()"
   ]
  },
  {
   "cell_type": "code",
   "execution_count": 55,
   "id": "51e14f8f",
   "metadata": {
    "ExecuteTime": {
     "end_time": "2024-08-08T06:06:46.053413Z",
     "start_time": "2024-08-08T06:06:46.037792Z"
    }
   },
   "outputs": [
    {
     "data": {
      "text/plain": [
       "company_size\n",
       "Medium    5860\n",
       "Large      569\n",
       "Small      170\n",
       "Name: count, dtype: int64"
      ]
     },
     "execution_count": 55,
     "metadata": {},
     "output_type": "execute_result"
    }
   ],
   "source": [
    "data['company_size'].value_counts()"
   ]
  },
  {
   "cell_type": "code",
   "execution_count": 56,
   "id": "7c5da04a",
   "metadata": {
    "ExecuteTime": {
     "end_time": "2024-08-08T06:06:49.367181Z",
     "start_time": "2024-08-08T06:06:49.241816Z"
    }
   },
   "outputs": [
    {
     "data": {
      "image/png": "[encoded data removed]",
      "text/plain": [
       "<Figure size 640x480 with 1 Axes>"
      ]
     },
     "metadata": {},
     "output_type": "display_data"
    }
   ],
   "source": [
    "com_size = data['company_size'].value_counts()\n",
    "plt.bar(com_size.index, com_size.values, color='darkblue')\n",
    "plt.xlabel('Company Size')\n",
    "plt.ylabel('Number')\n",
    "plt.title('Size of Company')\n",
    "plt.show()"
   ]
  },
  {
   "cell_type": "markdown",
   "id": "51ccac15",
   "metadata": {},
   "source": [
    "### Statistics analysis with quantitative variables ###"
   ]
  },
  {
   "cell_type": "code",
   "execution_count": 57,
   "id": "a96dd842",
   "metadata": {
    "ExecuteTime": {
     "end_time": "2024-08-08T06:06:53.862355Z",
     "start_time": "2024-08-08T06:06:53.846232Z"
    }
   },
   "outputs": [
    {
     "data": {
      "text/plain": [
       "Index(['job_title', 'experience_level', 'employment_type', 'work_models',\n",
       "       'work_year', 'employee_residence', 'salary', 'salary_currency',\n",
       "       'salary_in_usd', 'company_location', 'company_size'],\n",
       "      dtype='object')"
      ]
     },
     "execution_count": 57,
     "metadata": {},
     "output_type": "execute_result"
    }
   ],
   "source": [
    "data.keys()"
   ]
  },
  {
   "cell_type": "code",
   "execution_count": 58,
   "id": "e044854a",
   "metadata": {
    "ExecuteTime": {
     "end_time": "2024-08-08T06:06:57.434493Z",
     "start_time": "2024-08-08T06:06:57.136490Z"
    }
   },
   "outputs": [
    {
     "data": {
      "text/plain": [
       "<Axes: ylabel='Count'>"
      ]
     },
     "execution_count": 58,
     "metadata": {},
     "output_type": "execute_result"
    },
    {
     "data": {
      "image/png": "[encoded data removed]",
      "text/plain": [
       "<Figure size 640x480 with 1 Axes>"
      ]
     },
     "metadata": {},
     "output_type": "display_data"
    }
   ],
   "source": [
    "#before outliers\n",
    "salary_df = list(data['salary_in_usd'])\n",
    "sns.histplot(salary_df,kde=True)"
   ]
  },
  {
   "cell_type": "code",
   "execution_count": 59,
   "id": "44b9bca8",
   "metadata": {
    "ExecuteTime": {
     "end_time": "2024-08-08T06:07:06.737444Z",
     "start_time": "2024-08-08T06:07:03.350816Z"
    }
   },
   "outputs": [
    {
     "data": {
      "text/plain": [
       "<Axes: ylabel='Count'>"
      ]
     },
     "execution_count": 59,
     "metadata": {},
     "output_type": "execute_result"
    },
    {
     "data": {
      "image/png": "[encoded data removed]",
      "text/plain": [
       "<Figure size 640x480 with 1 Axes>"
      ]
     },
     "metadata": {},
     "output_type": "display_data"
    }
   ],
   "source": [
    "#before outliers\n",
    "salary_df = list(data['salary'])\n",
    "sns.histplot(salary_df,kde=True)"
   ]
  },
  {
   "cell_type": "code",
   "execution_count": 60,
   "id": "8281a332",
   "metadata": {
    "ExecuteTime": {
     "end_time": "2024-08-08T06:08:20.165374Z",
     "start_time": "2024-08-08T06:08:20.134508Z"
    }
   },
   "outputs": [
    {
     "data": {
      "text/plain": [
       "count      6599.000000\n",
       "mean     145560.558569\n",
       "std       70946.838070\n",
       "min       15000.000000\n",
       "25%       95000.000000\n",
       "50%      138666.000000\n",
       "75%      185000.000000\n",
       "max      750000.000000\n",
       "Name: salary_in_usd, dtype: float64"
      ]
     },
     "execution_count": 60,
     "metadata": {},
     "output_type": "execute_result"
    }
   ],
   "source": [
    "#before outliers\n",
    "data['salary_in_usd'].describe()"
   ]
  },
  {
   "cell_type": "code",
   "execution_count": 61,
   "id": "19c43283",
   "metadata": {
    "ExecuteTime": {
     "end_time": "2024-08-08T06:08:22.151526Z",
     "start_time": "2024-08-08T06:08:22.120587Z"
    },
    "scrolled": true
   },
   "outputs": [
    {
     "data": {
      "text/plain": [
       "count    6.599000e+03\n",
       "mean     1.792833e+05\n",
       "std      5.263722e+05\n",
       "min      1.400000e+04\n",
       "25%      9.600000e+04\n",
       "50%      1.400000e+05\n",
       "75%      1.875000e+05\n",
       "max      3.040000e+07\n",
       "Name: salary, dtype: float64"
      ]
     },
     "execution_count": 61,
     "metadata": {},
     "output_type": "execute_result"
    }
   ],
   "source": [
    "#before outliers\n",
    "data['salary'].describe()"
   ]
  },
  {
   "cell_type": "code",
   "execution_count": 62,
   "id": "a84ee3fd",
   "metadata": {
    "ExecuteTime": {
     "end_time": "2024-08-08T06:08:25.279308Z",
     "start_time": "2024-08-08T06:08:24.792785Z"
    }
   },
   "outputs": [
    {
     "data": {
      "text/plain": [
       "{'whiskers': [<matplotlib.lines.Line2D at 0x24a56fa0130>,\n",
       "  <matplotlib.lines.Line2D at 0x24a56fa03d0>],\n",
       " 'caps': [<matplotlib.lines.Line2D at 0x24a56fa0670>,\n",
       "  <matplotlib.lines.Line2D at 0x24a56fa0910>],\n",
       " 'boxes': [<matplotlib.lines.Line2D at 0x24a56f98e50>],\n",
       " 'medians': [<matplotlib.lines.Line2D at 0x24a56fa0bb0>],\n",
       " 'fliers': [<matplotlib.lines.Line2D at 0x24a56fa0e50>],\n",
       " 'means': []}"
      ]
     },
     "execution_count": 62,
     "metadata": {},
     "output_type": "execute_result"
    },
    {
     "data": {
      "image/png": "[encoded data removed]",
      "text/plain": [
       "<Figure size 640x480 with 1 Axes>"
      ]
     },
     "metadata": {},
     "output_type": "display_data"
    }
   ],
   "source": [
    "plt.boxplot(data['salary'])"
   ]
  },
  {
   "cell_type": "code",
   "execution_count": 63,
   "id": "e9542f23",
   "metadata": {
    "ExecuteTime": {
     "end_time": "2024-08-08T06:08:30.560457Z",
     "start_time": "2024-08-08T06:08:30.451067Z"
    },
    "scrolled": true
   },
   "outputs": [
    {
     "data": {
      "text/plain": [
       "{'whiskers': [<matplotlib.lines.Line2D at 0x24a5702a640>,\n",
       "  <matplotlib.lines.Line2D at 0x24a5702a8e0>],\n",
       " 'caps': [<matplotlib.lines.Line2D at 0x24a5702ab80>,\n",
       "  <matplotlib.lines.Line2D at 0x24a5702ae20>],\n",
       " 'boxes': [<matplotlib.lines.Line2D at 0x24a5702a3a0>],\n",
       " 'medians': [<matplotlib.lines.Line2D at 0x24a57034100>],\n",
       " 'fliers': [<matplotlib.lines.Line2D at 0x24a570343a0>],\n",
       " 'means': []}"
      ]
     },
     "execution_count": 63,
     "metadata": {},
     "output_type": "execute_result"
    },
    {
     "data": {
      "image/png": "[encoded data removed]",
      "text/plain": [
       "<Figure size 640x480 with 1 Axes>"
      ]
     },
     "metadata": {},
     "output_type": "display_data"
    }
   ],
   "source": [
    "plt.boxplot(data['salary_in_usd'])"
   ]
  },
  {
   "cell_type": "code",
   "execution_count": 64,
   "id": "471a8b21",
   "metadata": {
    "ExecuteTime": {
     "end_time": "2024-08-08T06:08:37.788046Z",
     "start_time": "2024-08-08T06:08:37.757281Z"
    }
   },
   "outputs": [
    {
     "name": "stdout",
     "output_type": "stream",
     "text": [
      "DescribeResult(nobs=6599, minmax=(14000, 30400000), mean=179283.25549325655, variance=277067737490.2294, skewness=34.734158627134555, kurtosis=1736.9955770712752)\n",
      "DescribeResult(nobs=6599, minmax=(15000, 750000), mean=145560.55856948023, variance=5033453832.064128, skewness=1.3603961878629054, kurtosis=6.488091937954394)\n"
     ]
    }
   ],
   "source": [
    "#skewness and kurtosis\n",
    "salary_sk = sc.describe(data['salary'])\n",
    "salary_usd = sc.describe(data['salary_in_usd'])\n",
    "print(salary_sk)\n",
    "print(salary_usd)"
   ]
  },
  {
   "cell_type": "code",
   "execution_count": 210,
   "id": "eacd0b75",
   "metadata": {
    "ExecuteTime": {
     "end_time": "2024-08-08T07:24:57.553038Z",
     "start_time": "2024-08-08T07:24:56.910105Z"
    }
   },
   "outputs": [],
   "source": [
    "#IQR function\n",
    "def IQR_func(dataset):\n",
    "    q1,q3 = np.percentile(dataset,[25,75])\n",
    "    print(q1,q3)\n",
    "    IQR = q3-q1\n",
    "    print(IQR)\n",
    "    lower_value = q1 - (1.5*IQR)\n",
    "    upper_value = q3 + (1.5*IQR)\n",
    "    print(lower_value)\n",
    "    print(upper_value)\n",
    "    dataset = dataset[dataset < upper_value]\n",
    "    dataset = dataset[dataset > lower_value]\n",
    "    print(len(dataset))"
   ]
  },
  {
   "cell_type": "code",
   "execution_count": 211,
   "id": "10f8f7b6",
   "metadata": {
    "ExecuteTime": {
     "end_time": "2024-08-08T07:25:02.685795Z",
     "start_time": "2024-08-08T07:25:02.531350Z"
    },
    "scrolled": true
   },
   "outputs": [
    {
     "name": "stdout",
     "output_type": "stream",
     "text": [
      "96000.0 187500.0\n",
      "91500.0\n",
      "-41250.0\n",
      "324750.0\n",
      "6439\n"
     ]
    }
   ],
   "source": [
    "IQR_func(data['salary'])"
   ]
  },
  {
   "cell_type": "code",
   "execution_count": 70,
   "id": "f749ca26",
   "metadata": {
    "ExecuteTime": {
     "end_time": "2024-08-08T06:15:01.444955Z",
     "start_time": "2024-08-08T06:15:01.434961Z"
    }
   },
   "outputs": [
    {
     "name": "stdout",
     "output_type": "stream",
     "text": [
      "633030\n",
      "1094359\n",
      "(6599,)\n"
     ]
    }
   ],
   "source": [
    "upper = np.where(data['salary']>=324750)[0]\n",
    "lower = np.where(data['salary']<=41250)[0]\n",
    "print(upper.sum())\n",
    "print(lower.sum())\n",
    "print(data['salary'].shape)"
   ]
  },
  {
   "cell_type": "code",
   "execution_count": 71,
   "id": "086757b1",
   "metadata": {
    "ExecuteTime": {
     "end_time": "2024-08-08T06:15:23.141518Z",
     "start_time": "2024-08-08T06:15:23.118018Z"
    }
   },
   "outputs": [
    {
     "data": {
      "text/plain": [
       "job_title             160\n",
       "experience_level      160\n",
       "employment_type       160\n",
       "work_models           160\n",
       "work_year             160\n",
       "employee_residence    160\n",
       "salary                160\n",
       "salary_currency       160\n",
       "salary_in_usd         160\n",
       "company_location      160\n",
       "company_size          160\n",
       "dtype: int64"
      ]
     },
     "execution_count": 71,
     "metadata": {},
     "output_type": "execute_result"
    }
   ],
   "source": [
    "data[data['salary']>=324750].count()"
   ]
  },
  {
   "cell_type": "code",
   "execution_count": 72,
   "id": "41b6892f",
   "metadata": {
    "ExecuteTime": {
     "end_time": "2024-08-08T06:15:31.799328Z",
     "start_time": "2024-08-08T06:15:31.779318Z"
    }
   },
   "outputs": [
    {
     "data": {
      "text/plain": [
       "job_title             218\n",
       "experience_level      218\n",
       "employment_type       218\n",
       "work_models           218\n",
       "work_year             218\n",
       "employee_residence    218\n",
       "salary                218\n",
       "salary_currency       218\n",
       "salary_in_usd         218\n",
       "company_location      218\n",
       "company_size          218\n",
       "dtype: int64"
      ]
     },
     "execution_count": 72,
     "metadata": {},
     "output_type": "execute_result"
    }
   ],
   "source": [
    "data[data['salary']<=41250].count()"
   ]
  },
  {
   "cell_type": "code",
   "execution_count": 228,
   "id": "b71f700a",
   "metadata": {
    "ExecuteTime": {
     "end_time": "2024-08-08T07:33:04.082949Z",
     "start_time": "2024-08-08T07:33:04.051358Z"
    }
   },
   "outputs": [
    {
     "data": {
      "text/html": [
       "<div>\n",
       "<style scoped>\n",
       "    .dataframe tbody tr th:only-of-type {\n",
       "        vertical-align: middle;\n",
       "    }\n",
       "\n",
       "    .dataframe tbody tr th {\n",
       "        vertical-align: top;\n",
       "    }\n",
       "\n",
       "    .dataframe thead th {\n",
       "        text-align: right;\n",
       "    }\n",
       "</style>\n",
       "<table border=\"1\" class=\"dataframe\">\n",
       "  <thead>\n",
       "    <tr style=\"text-align: right;\">\n",
       "      <th></th>\n",
       "      <th>job_title</th>\n",
       "      <th>experience_level</th>\n",
       "      <th>employment_type</th>\n",
       "      <th>work_models</th>\n",
       "      <th>work_year</th>\n",
       "      <th>employee_residence</th>\n",
       "      <th>salary</th>\n",
       "      <th>salary_currency</th>\n",
       "      <th>salary_in_usd</th>\n",
       "      <th>company_location</th>\n",
       "      <th>company_size</th>\n",
       "    </tr>\n",
       "  </thead>\n",
       "  <tbody>\n",
       "    <tr>\n",
       "      <th>0</th>\n",
       "      <td>Data Engineer</td>\n",
       "      <td>Mid-level</td>\n",
       "      <td>Full-time</td>\n",
       "      <td>Remote</td>\n",
       "      <td>2024</td>\n",
       "      <td>United States</td>\n",
       "      <td>148100</td>\n",
       "      <td>USD</td>\n",
       "      <td>148100</td>\n",
       "      <td>United States</td>\n",
       "      <td>Medium</td>\n",
       "    </tr>\n",
       "    <tr>\n",
       "      <th>1</th>\n",
       "      <td>Data Engineer</td>\n",
       "      <td>Mid-level</td>\n",
       "      <td>Full-time</td>\n",
       "      <td>Remote</td>\n",
       "      <td>2024</td>\n",
       "      <td>United States</td>\n",
       "      <td>98700</td>\n",
       "      <td>USD</td>\n",
       "      <td>98700</td>\n",
       "      <td>United States</td>\n",
       "      <td>Medium</td>\n",
       "    </tr>\n",
       "    <tr>\n",
       "      <th>2</th>\n",
       "      <td>Data Scientist</td>\n",
       "      <td>Senior-level</td>\n",
       "      <td>Full-time</td>\n",
       "      <td>Remote</td>\n",
       "      <td>2024</td>\n",
       "      <td>United States</td>\n",
       "      <td>140032</td>\n",
       "      <td>USD</td>\n",
       "      <td>140032</td>\n",
       "      <td>United States</td>\n",
       "      <td>Medium</td>\n",
       "    </tr>\n",
       "    <tr>\n",
       "      <th>3</th>\n",
       "      <td>Data Scientist</td>\n",
       "      <td>Senior-level</td>\n",
       "      <td>Full-time</td>\n",
       "      <td>Remote</td>\n",
       "      <td>2024</td>\n",
       "      <td>United States</td>\n",
       "      <td>100022</td>\n",
       "      <td>USD</td>\n",
       "      <td>100022</td>\n",
       "      <td>United States</td>\n",
       "      <td>Medium</td>\n",
       "    </tr>\n",
       "    <tr>\n",
       "      <th>4</th>\n",
       "      <td>BI Developer</td>\n",
       "      <td>Mid-level</td>\n",
       "      <td>Full-time</td>\n",
       "      <td>On-site</td>\n",
       "      <td>2024</td>\n",
       "      <td>United States</td>\n",
       "      <td>120000</td>\n",
       "      <td>USD</td>\n",
       "      <td>120000</td>\n",
       "      <td>United States</td>\n",
       "      <td>Medium</td>\n",
       "    </tr>\n",
       "    <tr>\n",
       "      <th>...</th>\n",
       "      <td>...</td>\n",
       "      <td>...</td>\n",
       "      <td>...</td>\n",
       "      <td>...</td>\n",
       "      <td>...</td>\n",
       "      <td>...</td>\n",
       "      <td>...</td>\n",
       "      <td>...</td>\n",
       "      <td>...</td>\n",
       "      <td>...</td>\n",
       "      <td>...</td>\n",
       "    </tr>\n",
       "    <tr>\n",
       "      <th>6593</th>\n",
       "      <td>Principal Data Scientist</td>\n",
       "      <td>Senior-level</td>\n",
       "      <td>Full-time</td>\n",
       "      <td>Remote</td>\n",
       "      <td>2020</td>\n",
       "      <td>Germany</td>\n",
       "      <td>130000</td>\n",
       "      <td>EUR</td>\n",
       "      <td>148261</td>\n",
       "      <td>Germany</td>\n",
       "      <td>Medium</td>\n",
       "    </tr>\n",
       "    <tr>\n",
       "      <th>6594</th>\n",
       "      <td>Staff Data Analyst</td>\n",
       "      <td>Entry-level</td>\n",
       "      <td>Contract</td>\n",
       "      <td>Hybrid</td>\n",
       "      <td>2020</td>\n",
       "      <td>Canada</td>\n",
       "      <td>60000</td>\n",
       "      <td>CAD</td>\n",
       "      <td>44753</td>\n",
       "      <td>Canada</td>\n",
       "      <td>Large</td>\n",
       "    </tr>\n",
       "    <tr>\n",
       "      <th>6596</th>\n",
       "      <td>Machine Learning Manager</td>\n",
       "      <td>Senior-level</td>\n",
       "      <td>Full-time</td>\n",
       "      <td>Hybrid</td>\n",
       "      <td>2020</td>\n",
       "      <td>Canada</td>\n",
       "      <td>157000</td>\n",
       "      <td>CAD</td>\n",
       "      <td>117104</td>\n",
       "      <td>Canada</td>\n",
       "      <td>Large</td>\n",
       "    </tr>\n",
       "    <tr>\n",
       "      <th>6597</th>\n",
       "      <td>Data Engineer</td>\n",
       "      <td>Mid-level</td>\n",
       "      <td>Full-time</td>\n",
       "      <td>Hybrid</td>\n",
       "      <td>2020</td>\n",
       "      <td>Austria</td>\n",
       "      <td>65000</td>\n",
       "      <td>EUR</td>\n",
       "      <td>74130</td>\n",
       "      <td>Austria</td>\n",
       "      <td>Large</td>\n",
       "    </tr>\n",
       "    <tr>\n",
       "      <th>6598</th>\n",
       "      <td>Data Scientist</td>\n",
       "      <td>Senior-level</td>\n",
       "      <td>Full-time</td>\n",
       "      <td>On-site</td>\n",
       "      <td>2020</td>\n",
       "      <td>Austria</td>\n",
       "      <td>80000</td>\n",
       "      <td>EUR</td>\n",
       "      <td>91237</td>\n",
       "      <td>Austria</td>\n",
       "      <td>Small</td>\n",
       "    </tr>\n",
       "  </tbody>\n",
       "</table>\n",
       "<p>5950 rows × 11 columns</p>\n",
       "</div>"
      ],
      "text/plain": [
       "                     job_title experience_level employment_type work_models  \\\n",
       "0                Data Engineer        Mid-level       Full-time      Remote   \n",
       "1                Data Engineer        Mid-level       Full-time      Remote   \n",
       "2               Data Scientist     Senior-level       Full-time      Remote   \n",
       "3               Data Scientist     Senior-level       Full-time      Remote   \n",
       "4                 BI Developer        Mid-level       Full-time     On-site   \n",
       "...                        ...              ...             ...         ...   \n",
       "6593  Principal Data Scientist     Senior-level       Full-time      Remote   \n",
       "6594        Staff Data Analyst      Entry-level        Contract      Hybrid   \n",
       "6596  Machine Learning Manager     Senior-level       Full-time      Hybrid   \n",
       "6597             Data Engineer        Mid-level       Full-time      Hybrid   \n",
       "6598            Data Scientist     Senior-level       Full-time     On-site   \n",
       "\n",
       "      work_year employee_residence  salary salary_currency  salary_in_usd  \\\n",
       "0          2024      United States  148100             USD         148100   \n",
       "1          2024      United States   98700             USD          98700   \n",
       "2          2024      United States  140032             USD         140032   \n",
       "3          2024      United States  100022             USD         100022   \n",
       "4          2024      United States  120000             USD         120000   \n",
       "...         ...                ...     ...             ...            ...   \n",
       "6593       2020            Germany  130000             EUR         148261   \n",
       "6594       2020             Canada   60000             CAD          44753   \n",
       "6596       2020             Canada  157000             CAD         117104   \n",
       "6597       2020            Austria   65000             EUR          74130   \n",
       "6598       2020            Austria   80000             EUR          91237   \n",
       "\n",
       "     company_location company_size  \n",
       "0       United States       Medium  \n",
       "1       United States       Medium  \n",
       "2       United States       Medium  \n",
       "3       United States       Medium  \n",
       "4       United States       Medium  \n",
       "...               ...          ...  \n",
       "6593          Germany       Medium  \n",
       "6594           Canada        Large  \n",
       "6596           Canada        Large  \n",
       "6597          Austria        Large  \n",
       "6598          Austria        Small  \n",
       "\n",
       "[5950 rows x 11 columns]"
      ]
     },
     "execution_count": 228,
     "metadata": {},
     "output_type": "execute_result"
    }
   ],
   "source": [
    "#drop outliers\n",
    "new_df = data[(data['salary']<250000)&(data['salary']>30000)]\n",
    "new_df.shape\n",
    "new_df"
   ]
  },
  {
   "cell_type": "code",
   "execution_count": 229,
   "id": "e67f4d99",
   "metadata": {
    "ExecuteTime": {
     "end_time": "2024-08-08T07:33:06.928491Z",
     "start_time": "2024-08-08T07:33:06.680366Z"
    }
   },
   "outputs": [
    {
     "data": {
      "text/plain": [
       "{'whiskers': [<matplotlib.lines.Line2D at 0x24a67f926d0>,\n",
       "  <matplotlib.lines.Line2D at 0x24a67f92970>],\n",
       " 'caps': [<matplotlib.lines.Line2D at 0x24a67f92c10>,\n",
       "  <matplotlib.lines.Line2D at 0x24a67f92eb0>],\n",
       " 'boxes': [<matplotlib.lines.Line2D at 0x24a67f92400>],\n",
       " 'medians': [<matplotlib.lines.Line2D at 0x24a67f9b190>],\n",
       " 'fliers': [<matplotlib.lines.Line2D at 0x24a67f9b430>],\n",
       " 'means': []}"
      ]
     },
     "execution_count": 229,
     "metadata": {},
     "output_type": "execute_result"
    },
    {
     "data": {
      "image/png": "[encoded data removed]",
      "text/plain": [
       "<Figure size 640x480 with 1 Axes>"
      ]
     },
     "metadata": {},
     "output_type": "display_data"
    }
   ],
   "source": [
    "plt.boxplot(new_df['salary'])"
   ]
  },
  {
   "cell_type": "code",
   "execution_count": 230,
   "id": "3c399c31",
   "metadata": {
    "ExecuteTime": {
     "end_time": "2024-08-08T07:33:09.944967Z",
     "start_time": "2024-08-08T07:33:09.646823Z"
    }
   },
   "outputs": [
    {
     "data": {
      "text/plain": [
       "<Axes: xlabel='salary', ylabel='Count'>"
      ]
     },
     "execution_count": 230,
     "metadata": {},
     "output_type": "execute_result"
    },
    {
     "data": {
      "image/png": "[encoded data removed]",
      "text/plain": [
       "<Figure size 640x480 with 1 Axes>"
      ]
     },
     "metadata": {},
     "output_type": "display_data"
    }
   ],
   "source": [
    "#after drop outliers\n",
    "sns.histplot(new_df['salary'],kde=True)"
   ]
  },
  {
   "cell_type": "code",
   "execution_count": 231,
   "id": "69143e45",
   "metadata": {
    "ExecuteTime": {
     "end_time": "2024-08-08T07:33:28.131174Z",
     "start_time": "2024-08-08T07:33:28.099527Z"
    }
   },
   "outputs": [
    {
     "name": "stdout",
     "output_type": "stream",
     "text": [
      "95000.0 185000.0\n",
      "90000.0\n",
      "-40000.0\n",
      "320000.0\n",
      "6492\n"
     ]
    }
   ],
   "source": [
    "IQR_func(data['salary_in_usd'])"
   ]
  },
  {
   "cell_type": "code",
   "execution_count": 116,
   "id": "f6ad38e5",
   "metadata": {
    "ExecuteTime": {
     "end_time": "2024-08-08T06:24:33.750326Z",
     "start_time": "2024-08-08T06:24:33.739352Z"
    }
   },
   "outputs": [
    {
     "name": "stdout",
     "output_type": "stream",
     "text": [
      "283890\n",
      "1041862\n",
      "(6599,)\n"
     ]
    }
   ],
   "source": [
    "upper = np.where(data['salary_in_usd']>=320000)[0]\n",
    "lower = np.where(data['salary_in_usd']<=40000)[0]\n",
    "print(upper.sum())\n",
    "print(lower.sum())\n",
    "print(data['salary_in_usd'].shape)"
   ]
  },
  {
   "cell_type": "code",
   "execution_count": 118,
   "id": "4d8359ed",
   "metadata": {
    "ExecuteTime": {
     "end_time": "2024-08-08T06:25:52.951876Z",
     "start_time": "2024-08-08T06:25:52.920616Z"
    }
   },
   "outputs": [
    {
     "data": {
      "text/plain": [
       "job_title             107\n",
       "experience_level      107\n",
       "employment_type       107\n",
       "work_models           107\n",
       "work_year             107\n",
       "employee_residence    107\n",
       "salary                107\n",
       "salary_currency       107\n",
       "salary_in_usd         107\n",
       "company_location      107\n",
       "company_size          107\n",
       "dtype: int64"
      ]
     },
     "execution_count": 118,
     "metadata": {},
     "output_type": "execute_result"
    }
   ],
   "source": [
    "data[data['salary_in_usd']>=320000].count()"
   ]
  },
  {
   "cell_type": "code",
   "execution_count": 117,
   "id": "f496c564",
   "metadata": {
    "ExecuteTime": {
     "end_time": "2024-08-08T06:25:50.330272Z",
     "start_time": "2024-08-08T06:25:50.298633Z"
    }
   },
   "outputs": [
    {
     "data": {
      "text/plain": [
       "job_title             196\n",
       "experience_level      196\n",
       "employment_type       196\n",
       "work_models           196\n",
       "work_year             196\n",
       "employee_residence    196\n",
       "salary                196\n",
       "salary_currency       196\n",
       "salary_in_usd         196\n",
       "company_location      196\n",
       "company_size          196\n",
       "dtype: int64"
      ]
     },
     "execution_count": 117,
     "metadata": {},
     "output_type": "execute_result"
    }
   ],
   "source": [
    "data[data['salary_in_usd']<=40000].count()"
   ]
  },
  {
   "cell_type": "code",
   "execution_count": 172,
   "id": "b6b38d54",
   "metadata": {
    "ExecuteTime": {
     "end_time": "2024-08-08T06:44:24.189057Z",
     "start_time": "2024-08-08T06:44:24.149986Z"
    }
   },
   "outputs": [
    {
     "data": {
      "text/html": [
       "<div>\n",
       "<style scoped>\n",
       "    .dataframe tbody tr th:only-of-type {\n",
       "        vertical-align: middle;\n",
       "    }\n",
       "\n",
       "    .dataframe tbody tr th {\n",
       "        vertical-align: top;\n",
       "    }\n",
       "\n",
       "    .dataframe thead th {\n",
       "        text-align: right;\n",
       "    }\n",
       "</style>\n",
       "<table border=\"1\" class=\"dataframe\">\n",
       "  <thead>\n",
       "    <tr style=\"text-align: right;\">\n",
       "      <th></th>\n",
       "      <th>job_title</th>\n",
       "      <th>experience_level</th>\n",
       "      <th>employment_type</th>\n",
       "      <th>work_models</th>\n",
       "      <th>work_year</th>\n",
       "      <th>employee_residence</th>\n",
       "      <th>salary</th>\n",
       "      <th>salary_currency</th>\n",
       "      <th>salary_in_usd</th>\n",
       "      <th>company_location</th>\n",
       "      <th>company_size</th>\n",
       "    </tr>\n",
       "  </thead>\n",
       "  <tbody>\n",
       "    <tr>\n",
       "      <th>0</th>\n",
       "      <td>Data Engineer</td>\n",
       "      <td>Mid-level</td>\n",
       "      <td>Full-time</td>\n",
       "      <td>Remote</td>\n",
       "      <td>2024</td>\n",
       "      <td>United States</td>\n",
       "      <td>148100</td>\n",
       "      <td>USD</td>\n",
       "      <td>148100</td>\n",
       "      <td>United States</td>\n",
       "      <td>Medium</td>\n",
       "    </tr>\n",
       "    <tr>\n",
       "      <th>1</th>\n",
       "      <td>Data Engineer</td>\n",
       "      <td>Mid-level</td>\n",
       "      <td>Full-time</td>\n",
       "      <td>Remote</td>\n",
       "      <td>2024</td>\n",
       "      <td>United States</td>\n",
       "      <td>98700</td>\n",
       "      <td>USD</td>\n",
       "      <td>98700</td>\n",
       "      <td>United States</td>\n",
       "      <td>Medium</td>\n",
       "    </tr>\n",
       "    <tr>\n",
       "      <th>2</th>\n",
       "      <td>Data Scientist</td>\n",
       "      <td>Senior-level</td>\n",
       "      <td>Full-time</td>\n",
       "      <td>Remote</td>\n",
       "      <td>2024</td>\n",
       "      <td>United States</td>\n",
       "      <td>140032</td>\n",
       "      <td>USD</td>\n",
       "      <td>140032</td>\n",
       "      <td>United States</td>\n",
       "      <td>Medium</td>\n",
       "    </tr>\n",
       "    <tr>\n",
       "      <th>3</th>\n",
       "      <td>Data Scientist</td>\n",
       "      <td>Senior-level</td>\n",
       "      <td>Full-time</td>\n",
       "      <td>Remote</td>\n",
       "      <td>2024</td>\n",
       "      <td>United States</td>\n",
       "      <td>100022</td>\n",
       "      <td>USD</td>\n",
       "      <td>100022</td>\n",
       "      <td>United States</td>\n",
       "      <td>Medium</td>\n",
       "    </tr>\n",
       "    <tr>\n",
       "      <th>4</th>\n",
       "      <td>BI Developer</td>\n",
       "      <td>Mid-level</td>\n",
       "      <td>Full-time</td>\n",
       "      <td>On-site</td>\n",
       "      <td>2024</td>\n",
       "      <td>United States</td>\n",
       "      <td>120000</td>\n",
       "      <td>USD</td>\n",
       "      <td>120000</td>\n",
       "      <td>United States</td>\n",
       "      <td>Medium</td>\n",
       "    </tr>\n",
       "    <tr>\n",
       "      <th>...</th>\n",
       "      <td>...</td>\n",
       "      <td>...</td>\n",
       "      <td>...</td>\n",
       "      <td>...</td>\n",
       "      <td>...</td>\n",
       "      <td>...</td>\n",
       "      <td>...</td>\n",
       "      <td>...</td>\n",
       "      <td>...</td>\n",
       "      <td>...</td>\n",
       "      <td>...</td>\n",
       "    </tr>\n",
       "    <tr>\n",
       "      <th>6593</th>\n",
       "      <td>Principal Data Scientist</td>\n",
       "      <td>Senior-level</td>\n",
       "      <td>Full-time</td>\n",
       "      <td>Remote</td>\n",
       "      <td>2020</td>\n",
       "      <td>Germany</td>\n",
       "      <td>130000</td>\n",
       "      <td>EUR</td>\n",
       "      <td>148261</td>\n",
       "      <td>Germany</td>\n",
       "      <td>Medium</td>\n",
       "    </tr>\n",
       "    <tr>\n",
       "      <th>6594</th>\n",
       "      <td>Staff Data Analyst</td>\n",
       "      <td>Entry-level</td>\n",
       "      <td>Contract</td>\n",
       "      <td>Hybrid</td>\n",
       "      <td>2020</td>\n",
       "      <td>Canada</td>\n",
       "      <td>60000</td>\n",
       "      <td>CAD</td>\n",
       "      <td>44753</td>\n",
       "      <td>Canada</td>\n",
       "      <td>Large</td>\n",
       "    </tr>\n",
       "    <tr>\n",
       "      <th>6596</th>\n",
       "      <td>Machine Learning Manager</td>\n",
       "      <td>Senior-level</td>\n",
       "      <td>Full-time</td>\n",
       "      <td>Hybrid</td>\n",
       "      <td>2020</td>\n",
       "      <td>Canada</td>\n",
       "      <td>157000</td>\n",
       "      <td>CAD</td>\n",
       "      <td>117104</td>\n",
       "      <td>Canada</td>\n",
       "      <td>Large</td>\n",
       "    </tr>\n",
       "    <tr>\n",
       "      <th>6597</th>\n",
       "      <td>Data Engineer</td>\n",
       "      <td>Mid-level</td>\n",
       "      <td>Full-time</td>\n",
       "      <td>Hybrid</td>\n",
       "      <td>2020</td>\n",
       "      <td>Austria</td>\n",
       "      <td>65000</td>\n",
       "      <td>EUR</td>\n",
       "      <td>74130</td>\n",
       "      <td>Austria</td>\n",
       "      <td>Large</td>\n",
       "    </tr>\n",
       "    <tr>\n",
       "      <th>6598</th>\n",
       "      <td>Data Scientist</td>\n",
       "      <td>Senior-level</td>\n",
       "      <td>Full-time</td>\n",
       "      <td>On-site</td>\n",
       "      <td>2020</td>\n",
       "      <td>Austria</td>\n",
       "      <td>80000</td>\n",
       "      <td>EUR</td>\n",
       "      <td>91237</td>\n",
       "      <td>Austria</td>\n",
       "      <td>Small</td>\n",
       "    </tr>\n",
       "  </tbody>\n",
       "</table>\n",
       "<p>6228 rows × 11 columns</p>\n",
       "</div>"
      ],
      "text/plain": [
       "                     job_title experience_level employment_type work_models  \\\n",
       "0                Data Engineer        Mid-level       Full-time      Remote   \n",
       "1                Data Engineer        Mid-level       Full-time      Remote   \n",
       "2               Data Scientist     Senior-level       Full-time      Remote   \n",
       "3               Data Scientist     Senior-level       Full-time      Remote   \n",
       "4                 BI Developer        Mid-level       Full-time     On-site   \n",
       "...                        ...              ...             ...         ...   \n",
       "6593  Principal Data Scientist     Senior-level       Full-time      Remote   \n",
       "6594        Staff Data Analyst      Entry-level        Contract      Hybrid   \n",
       "6596  Machine Learning Manager     Senior-level       Full-time      Hybrid   \n",
       "6597             Data Engineer        Mid-level       Full-time      Hybrid   \n",
       "6598            Data Scientist     Senior-level       Full-time     On-site   \n",
       "\n",
       "      work_year employee_residence  salary salary_currency  salary_in_usd  \\\n",
       "0          2024      United States  148100             USD         148100   \n",
       "1          2024      United States   98700             USD          98700   \n",
       "2          2024      United States  140032             USD         140032   \n",
       "3          2024      United States  100022             USD         100022   \n",
       "4          2024      United States  120000             USD         120000   \n",
       "...         ...                ...     ...             ...            ...   \n",
       "6593       2020            Germany  130000             EUR         148261   \n",
       "6594       2020             Canada   60000             CAD          44753   \n",
       "6596       2020             Canada  157000             CAD         117104   \n",
       "6597       2020            Austria   65000             EUR          74130   \n",
       "6598       2020            Austria   80000             EUR          91237   \n",
       "\n",
       "     company_location company_size  \n",
       "0       United States       Medium  \n",
       "1       United States       Medium  \n",
       "2       United States       Medium  \n",
       "3       United States       Medium  \n",
       "4       United States       Medium  \n",
       "...               ...          ...  \n",
       "6593          Germany       Medium  \n",
       "6594           Canada        Large  \n",
       "6596           Canada        Large  \n",
       "6597          Austria        Large  \n",
       "6598          Austria        Small  \n",
       "\n",
       "[6228 rows x 11 columns]"
      ]
     },
     "execution_count": 172,
     "metadata": {},
     "output_type": "execute_result"
    }
   ],
   "source": [
    "#drop outliers\n",
    "new_df = data[(data['salary_in_usd']<270000)&(data['salary_in_usd']>23000)]\n",
    "new_df.shape\n",
    "new_df"
   ]
  },
  {
   "cell_type": "code",
   "execution_count": 173,
   "id": "a763fc88",
   "metadata": {
    "ExecuteTime": {
     "end_time": "2024-08-08T06:44:26.838120Z",
     "start_time": "2024-08-08T06:44:26.736100Z"
    }
   },
   "outputs": [
    {
     "data": {
      "text/plain": [
       "{'whiskers': [<matplotlib.lines.Line2D at 0x24a6142bfa0>,\n",
       "  <matplotlib.lines.Line2D at 0x24a61438280>],\n",
       " 'caps': [<matplotlib.lines.Line2D at 0x24a61438520>,\n",
       "  <matplotlib.lines.Line2D at 0x24a614387c0>],\n",
       " 'boxes': [<matplotlib.lines.Line2D at 0x24a6142bd00>],\n",
       " 'medians': [<matplotlib.lines.Line2D at 0x24a61438a60>],\n",
       " 'fliers': [<matplotlib.lines.Line2D at 0x24a61438d00>],\n",
       " 'means': []}"
      ]
     },
     "execution_count": 173,
     "metadata": {},
     "output_type": "execute_result"
    },
    {
     "data": {
      "image/png": "[encoded data removed]",
      "text/plain": [
       "<Figure size 640x480 with 1 Axes>"
      ]
     },
     "metadata": {},
     "output_type": "display_data"
    }
   ],
   "source": [
    "#after drop outliers\n",
    "plt.boxplot(new_df['salary_in_usd'])"
   ]
  },
  {
   "cell_type": "code",
   "execution_count": 174,
   "id": "3b5d7288",
   "metadata": {
    "ExecuteTime": {
     "end_time": "2024-08-08T06:44:29.608157Z",
     "start_time": "2024-08-08T06:44:29.298809Z"
    }
   },
   "outputs": [
    {
     "data": {
      "text/plain": [
       "<Axes: xlabel='salary_in_usd', ylabel='Count'>"
      ]
     },
     "execution_count": 174,
     "metadata": {},
     "output_type": "execute_result"
    },
    {
     "data": {
      "image/png": "[encoded data removed]",
      "text/plain": [
       "<Figure size 640x480 with 1 Axes>"
      ]
     },
     "metadata": {},
     "output_type": "display_data"
    }
   ],
   "source": [
    "#after drop outliers\n",
    "sns.histplot(new_df['salary_in_usd'],kde=True)"
   ]
  },
  {
   "cell_type": "code",
   "execution_count": 232,
   "id": "ffa92fc1",
   "metadata": {
    "ExecuteTime": {
     "end_time": "2024-08-08T07:34:16.191404Z",
     "start_time": "2024-08-08T07:34:16.160161Z"
    }
   },
   "outputs": [
    {
     "name": "stdout",
     "output_type": "stream",
     "text": [
      "DescribeResult(nobs=5950, minmax=(30390, 249600), mean=135196.04655462186, variance=2776777559.7999845, skewness=0.12272867891260408, kurtosis=-0.8114854108500493)\n",
      "DescribeResult(nobs=5950, minmax=(18160, 249600), mean=135771.2156302521, variance=2707540260.766574, skewness=0.15238742536526764, kurtosis=-0.8019381791866897)\n"
     ]
    }
   ],
   "source": [
    "#after drop outliers\n",
    "#skewness and kurtosis\n",
    "salary_sk = sc.describe(new_df['salary'])\n",
    "salary_usd = sc.describe(new_df['salary_in_usd'])\n",
    "print(salary_sk)\n",
    "print(salary_usd)"
   ]
  },
  {
   "cell_type": "code",
   "execution_count": 237,
   "id": "3a98a578",
   "metadata": {
    "ExecuteTime": {
     "end_time": "2024-08-08T07:59:26.538797Z",
     "start_time": "2024-08-08T07:59:26.507161Z"
    },
    "scrolled": true
   },
   "outputs": [
    {
     "data": {
      "text/html": [
       "<div>\n",
       "<style scoped>\n",
       "    .dataframe tbody tr th:only-of-type {\n",
       "        vertical-align: middle;\n",
       "    }\n",
       "\n",
       "    .dataframe tbody tr th {\n",
       "        vertical-align: top;\n",
       "    }\n",
       "\n",
       "    .dataframe thead th {\n",
       "        text-align: right;\n",
       "    }\n",
       "</style>\n",
       "<table border=\"1\" class=\"dataframe\">\n",
       "  <thead>\n",
       "    <tr style=\"text-align: right;\">\n",
       "      <th></th>\n",
       "      <th>work_year</th>\n",
       "      <th>salary</th>\n",
       "      <th>salary_in_usd</th>\n",
       "    </tr>\n",
       "  </thead>\n",
       "  <tbody>\n",
       "    <tr>\n",
       "      <th>work_year</th>\n",
       "      <td>1.000000</td>\n",
       "      <td>0.110242</td>\n",
       "      <td>0.115000</td>\n",
       "    </tr>\n",
       "    <tr>\n",
       "      <th>salary</th>\n",
       "      <td>0.110242</td>\n",
       "      <td>1.000000</td>\n",
       "      <td>0.988517</td>\n",
       "    </tr>\n",
       "    <tr>\n",
       "      <th>salary_in_usd</th>\n",
       "      <td>0.115000</td>\n",
       "      <td>0.988517</td>\n",
       "      <td>1.000000</td>\n",
       "    </tr>\n",
       "  </tbody>\n",
       "</table>\n",
       "</div>"
      ],
      "text/plain": [
       "               work_year    salary  salary_in_usd\n",
       "work_year       1.000000  0.110242       0.115000\n",
       "salary          0.110242  1.000000       0.988517\n",
       "salary_in_usd   0.115000  0.988517       1.000000"
      ]
     },
     "execution_count": 237,
     "metadata": {},
     "output_type": "execute_result"
    }
   ],
   "source": [
    "r = new_df.corr(method='pearson',numeric_only=True)\n",
    "r"
   ]
  },
  {
   "cell_type": "code",
   "execution_count": 241,
   "id": "e0c80325",
   "metadata": {
    "ExecuteTime": {
     "end_time": "2024-08-08T08:02:47.091358Z",
     "start_time": "2024-08-08T08:02:46.698740Z"
    },
    "scrolled": false
   },
   "outputs": [
    {
     "data": {
      "text/plain": [
       "<Axes: >"
      ]
     },
     "execution_count": 241,
     "metadata": {},
     "output_type": "execute_result"
    },
    {
     "data": {
      "image/png": "[encoded data removed]",
      "text/plain": [
       "<Figure size 640x480 with 2 Axes>"
      ]
     },
     "metadata": {},
     "output_type": "display_data"
    }
   ],
   "source": [
    "sns.heatmap(r,annot=True)"
   ]
  }
 ],
 "metadata": {
  "kernelspec": {
   "display_name": "ml_env",
   "language": "python",
   "name": "ml_env"
  },
  "language_info": {
   "codemirror_mode": {
    "name": "ipython",
    "version": 3
   },
   "file_extension": ".py",
   "mimetype": "text/x-python",
   "name": "python",
   "nbconvert_exporter": "python",
   "pygments_lexer": "ipython3",
   "version": "3.9.18"
  },
  "varInspector": {
   "cols": {
    "lenName": 16,
    "lenType": 16,
    "lenVar": 40
   },
   "kernels_config": {
    "python": {
     "delete_cmd_postfix": "",
     "delete_cmd_prefix": "del ",
     "library": "var_list.py",
     "varRefreshCmd": "print(var_dic_list())"
    },
    "r": {
     "delete_cmd_postfix": ") ",
     "delete_cmd_prefix": "rm(",
     "library": "var_list.r",
     "varRefreshCmd": "cat(var_dic_list()) "
    }
   },
   "types_to_exclude": [
    "module",
    "function",
    "builtin_function_or_method",
    "instance",
    "_Feature"
   ],
   "window_display": false
  }
 },
 "nbformat": 4,
 "nbformat_minor": 5
}
